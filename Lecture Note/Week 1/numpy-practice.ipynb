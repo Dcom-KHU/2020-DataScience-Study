{
 "cells": [
  {
   "cell_type": "markdown",
   "metadata": {},
   "source": [
    "# Numpy Practice\n",
    "## 과제 안내 \n",
    "- 답안을 작성하여 ipynb 파일로 구글 드라이브 \\[Assignment\\] - \\[개인 폴더\\]로 업로드하시면 됩니다.  \n",
    "- 출력 예시는 본 파일 하단에 수록되어 있습니다."
   ]
  },
  {
   "cell_type": "markdown",
   "metadata": {},
   "source": [
    "# Practice"
   ]
  },
  {
   "cell_type": "code",
   "execution_count": null,
   "metadata": {},
   "outputs": [],
   "source": [
    "import numpy as np"
   ]
  },
  {
   "cell_type": "markdown",
   "metadata": {},
   "source": [
    "## P.1-1\n",
    "\n",
    "Numpy로 100개의 원소를 가지는 1차원 행렬을 생성해봅시다.  \n",
    "단 원소는 **1부터** 차례대로 **홀수**만 가집니다.   \n",
    "그리고 각 원소의 자료형은 float64으로 변환해주세요.  \n",
    "생성한 Numpy 배열의 이름은  np_arr1으로 해주세요.\n"
   ]
  },
  {
   "cell_type": "code",
   "execution_count": null,
   "metadata": {
    "tags": []
   },
   "outputs": [],
   "source": [
    "########## P.1-1 Write your answer here\n",
    "\n",
    "########################################\n",
    "print(np_arr1)"
   ]
  },
  {
   "cell_type": "markdown",
   "metadata": {},
   "source": [
    "## P.1-2\n",
    "앞서 제작한 1차원 행렬 np_arr1을 10 X 10 행렬로 변환해 봅시다.\n",
    "변환한 행렬의 이름은 np_arr2로 해주세요."
   ]
  },
  {
   "cell_type": "code",
   "execution_count": null,
   "metadata": {
    "tags": []
   },
   "outputs": [],
   "source": [
    "########## P.1-2 Write your answer here\n",
    "\n",
    "########################################\n",
    "print(np_arr2)"
   ]
  },
  {
   "cell_type": "markdown",
   "metadata": {},
   "source": [
    "## P.1-3\n",
    "np_arr2에서 만약 원소의 값이 50 이상이라면 그 값에 2를 곱해봅시다.  \n",
    "그 결과는 np_arr3 변수에 저장해주세요.  \n",
    "(for/while 문법을 사용하지 않고 numpy 메서드를 사용하여 구현해봅시다.)"
   ]
  },
  {
   "cell_type": "code",
   "execution_count": null,
   "metadata": {
    "tags": []
   },
   "outputs": [],
   "source": [
    "########## P.1-3 Write your answer here\n",
    "\n",
    "########################################\n",
    "print(np_arr3)"
   ]
  },
  {
   "cell_type": "markdown",
   "metadata": {},
   "source": [
    "## P.1-4\n",
    "np_arr3에서 3의 배수의 개수를 세어 봅시다.  \n",
    "그 결과는 cnt_div 변수에 저장해주세요.  \n",
    "(for/while 문법을 사용하지 않고 numpy 메서드를 사용하여 구현해봅시다.)"
   ]
  },
  {
   "cell_type": "code",
   "execution_count": null,
   "metadata": {
    "tags": []
   },
   "outputs": [],
   "source": [
    "########## P.1-4 Write your answer here\n",
    "\n",
    "########################################\n",
    "print(cnt_div)"
   ]
  },
  {
   "cell_type": "markdown",
   "metadata": {},
   "source": [
    "## p.1-5\n",
    "np_arr3에서 행 각각의 평균을 구해봅시다.  \n",
    "그 결과는 np_avg에 저장해주세요."
   ]
  },
  {
   "cell_type": "code",
   "execution_count": null,
   "metadata": {
    "tags": []
   },
   "outputs": [],
   "source": [
    "########## P.1-5 Write your answer here\n",
    "\n",
    "########################################\n",
    "print(np_avg)"
   ]
  },
  {
   "cell_type": "markdown",
   "metadata": {},
   "source": [
    "## P.1-6\n",
    "np_arr3의 각 원소에 그 행의 평균을 빼 봅시다. (앞서 구한 np_avg를 사용하여 구해봅시다.)  \n",
    "그리고 각각의 원소에 절댓값을 취해 봅니다.  \n",
    "그 결과를 np_arr4에 저장합시다."
   ]
  },
  {
   "cell_type": "code",
   "execution_count": null,
   "metadata": {
    "tags": []
   },
   "outputs": [],
   "source": [
    "########## P.1-6 Write your answer here\n",
    "\n",
    "########################################\n",
    "print(np_arr4)"
   ]
  },
  {
   "cell_type": "markdown",
   "metadata": {},
   "source": [
    "## P.1-7\n",
    "np_arr4 전체 원소의 표준편차를 구해봅시다.\n",
    "그 결과는 result에 저장해주세요."
   ]
  },
  {
   "cell_type": "code",
   "execution_count": null,
   "metadata": {
    "tags": []
   },
   "outputs": [],
   "source": [
    "########## P.1-7 Write your answer here\n",
    "\n",
    "########################################\n",
    "print(result)"
   ]
  },
  {
   "cell_type": "markdown",
   "metadata": {},
   "source": [
    "# Self Check"
   ]
  },
  {
   "cell_type": "markdown",
   "metadata": {},
   "source": [
    "## P.1-1\n",
    "```\n",
    "[  1.   3.   5.   7.   9.  11.  13.  15.  17.  19.  21.  23.  25.  27.\n",
    "  29.  31.  33.  35.  37.  39.  41.  43.  45.  47.  49.  51.  53.  55.\n",
    "  57.  59.  61.  63.  65.  67.  69.  71.  73.  75.  77.  79.  81.  83.\n",
    "  85.  87.  89.  91.  93.  95.  97.  99. 101. 103. 105. 107. 109. 111.\n",
    " 113. 115. 117. 119. 121. 123. 125. 127. 129. 131. 133. 135. 137. 139.\n",
    " 141. 143. 145. 147. 149. 151. 153. 155. 157. 159. 161. 163. 165. 167.\n",
    " 169. 171. 173. 175. 177. 179. 181. 183. 185. 187. 189. 191. 193. 195.\n",
    " 197. 199.]\n",
    "```"
   ]
  },
  {
   "cell_type": "markdown",
   "metadata": {},
   "source": [
    "## P.1-2\n",
    "```\n",
    "[[  1.   3.   5.   7.   9.  11.  13.  15.  17.  19.]\n",
    " [ 21.  23.  25.  27.  29.  31.  33.  35.  37.  39.]\n",
    " [ 41.  43.  45.  47.  49.  51.  53.  55.  57.  59.]\n",
    " [ 61.  63.  65.  67.  69.  71.  73.  75.  77.  79.]\n",
    " [ 81.  83.  85.  87.  89.  91.  93.  95.  97.  99.]\n",
    " [101. 103. 105. 107. 109. 111. 113. 115. 117. 119.]\n",
    " [121. 123. 125. 127. 129. 131. 133. 135. 137. 139.]\n",
    " [141. 143. 145. 147. 149. 151. 153. 155. 157. 159.]\n",
    " [161. 163. 165. 167. 169. 171. 173. 175. 177. 179.]\n",
    " [181. 183. 185. 187. 189. 191. 193. 195. 197. 199.]]\n",
    "```"
   ]
  },
  {
   "cell_type": "markdown",
   "metadata": {},
   "source": [
    "## P.1-3\n",
    "```\n",
    "[[  1.   3.   5.   7.   9.  11.  13.  15.  17.  19.]\n",
    " [ 21.  23.  25.  27.  29.  31.  33.  35.  37.  39.]\n",
    " [ 41.  43.  45.  47.  49. 102. 106. 110. 114. 118.]\n",
    " [122. 126. 130. 134. 138. 142. 146. 150. 154. 158.]\n",
    " [162. 166. 170. 174. 178. 182. 186. 190. 194. 198.]\n",
    " [202. 206. 210. 214. 218. 222. 226. 230. 234. 238.]\n",
    " [242. 246. 250. 254. 258. 262. 266. 270. 274. 278.]\n",
    " [282. 286. 290. 294. 298. 302. 306. 310. 314. 318.]\n",
    " [322. 326. 330. 334. 338. 342. 346. 350. 354. 358.]\n",
    " [362. 366. 370. 374. 378. 382. 386. 390. 394. 398.]]\n",
    " ```"
   ]
  },
  {
   "cell_type": "markdown",
   "metadata": {},
   "source": [
    "## P.1-4\n",
    "```\n",
    "33\n",
    "```"
   ]
  },
  {
   "cell_type": "markdown",
   "metadata": {},
   "source": [
    "# p.1-5\n",
    "```\n",
    "[ 10.   30.   77.5 140.  180.  220.  260.  300.  340.  380. ]\n",
    "```"
   ]
  },
  {
   "cell_type": "markdown",
   "metadata": {},
   "source": [
    "## P.1-6\n",
    "```\n",
    "[[ 9.   7.   5.   3.   1.   1.   3.   5.   7.   9. ]\n",
    " [ 9.   7.   5.   3.   1.   1.   3.   5.   7.   9. ]\n",
    " [36.5 34.5 32.5 30.5 28.5 24.5 28.5 32.5 36.5 40.5]\n",
    " [18.  14.  10.   6.   2.   2.   6.  10.  14.  18. ]\n",
    " [18.  14.  10.   6.   2.   2.   6.  10.  14.  18. ]\n",
    " [18.  14.  10.   6.   2.   2.   6.  10.  14.  18. ]\n",
    " [18.  14.  10.   6.   2.   2.   6.  10.  14.  18. ]\n",
    " [18.  14.  10.   6.   2.   2.   6.  10.  14.  18. ]\n",
    " [18.  14.  10.   6.   2.   2.   6.  10.  14.  18. ]\n",
    " [18.  14.  10.   6.   2.   2.   6.  10.  14.  18. ]]\n",
    "```\n"
   ]
  },
  {
   "cell_type": "markdown",
   "metadata": {},
   "source": [
    "## P.1-7\n",
    "```\n",
    "8.94776508408664\n",
    "```"
   ]
  },
  {
   "cell_type": "code",
   "execution_count": null,
   "metadata": {},
   "outputs": [],
   "source": []
  }
 ],
 "metadata": {
  "language_info": {
   "codemirror_mode": {
    "name": "ipython",
    "version": 3
   },
   "file_extension": ".py",
   "mimetype": "text/x-python",
   "name": "python",
   "nbconvert_exporter": "python",
   "pygments_lexer": "ipython3",
   "version": "3.7.4-final"
  },
  "orig_nbformat": 2,
  "kernelspec": {
   "name": "python3",
   "display_name": "Python 3"
  }
 },
 "nbformat": 4,
 "nbformat_minor": 2
}