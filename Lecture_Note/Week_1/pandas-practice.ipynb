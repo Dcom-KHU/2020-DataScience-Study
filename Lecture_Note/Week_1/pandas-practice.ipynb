{
 "cells": [
  {
   "cell_type": "markdown",
   "metadata": {},
   "source": [
    "# Pandas Practice\n",
    "## 과제 안내\n",
    "- 이번 실습은 \"한국장학재단_대학별 평균등록금_20200429.csv\" 파일이 필요합니다. 과제 공지 폴더를 확인해주세요.\n",
    "- 답안을 작성하여 ipynb 파일로 구글 드라이브 \\[Assignment\\] - \\[개인 폴더\\]로 업로드하시면 됩니다, 위 데이터셋 파일과 후에 출력한 파일도 같이 첨부해주세요. \n",
    "- 출력 예시는 본 파일 하단에 수록되어 있습니다. 문제가 잘 이해가지 않거나, 정답을 확인하고 싶을 때 참고하시면 됩니다.\n",
    "- 출력 예시는 어디까지나 예시이며 제시된 문제의 의도와 부합한다면 출력 결과가 달라도 상관 없습니다.\n",
    "\n"
   ]
  },
  {
   "cell_type": "code",
   "execution_count": 296,
   "metadata": {},
   "outputs": [],
   "source": [
    "import pandas as pd "
   ]
  },
  {
   "cell_type": "markdown",
   "metadata": {},
   "source": [
    "## P.2-1\n",
    "\"한국장학재단_대학별 평균등록금_20200429.csv\" 파일을 Pandas의 read_csv 메서드로 불러와 봅시다.  \n",
    "이때 불러온 객체는 df라는 변수에 저장합니다."
   ]
  },
  {
   "cell_type": "code",
   "execution_count": 273,
   "metadata": {
    "tags": []
   },
   "outputs": [
    {
     "output_type": "execute_result",
     "data": {
      "text/plain": "      학제별  설립별        대학명 지역별  입학정원 합(명) 평균 입학금(천원)  평균등록금(천원)\n0      대학  국공립    강릉원주대학교  강원       7412       0.0      4264.4\n1      대학  국공립      강원대학교  강원      18255       0.0      4114.2\n2      대학  국공립  경남과학기술대학교  경남       4767       0.0      3776.3\n3      대학  국공립      경북대학교  대구      19178       0.0      4500.6\n4      대학  국공립      경상대학교  경남      12528       0.0      4090.0\n..    ...  ...        ...  ..        ...        ...        ...\n381  전문대학   사립    한림성심대학교  강원       2609    8141.7      5598.9\n382  전문대학   사립    한양여자대학교  서울       6252    5245.5      6085.5\n383  전문대학   사립       한영대학  전남       1349    3492.7      5258.1\n384  전문대학   사립      혜전대학교  충남       2838    4506.2      5802.0\n385  전문대학   사립      호산대학교  경북       1776    9687.7      5648.8\n\n[386 rows x 7 columns]",
      "text/html": "<div>\n<style scoped>\n    .dataframe tbody tr th:only-of-type {\n        vertical-align: middle;\n    }\n\n    .dataframe tbody tr th {\n        vertical-align: top;\n    }\n\n    .dataframe thead th {\n        text-align: right;\n    }\n</style>\n<table border=\"1\" class=\"dataframe\">\n  <thead>\n    <tr style=\"text-align: right;\">\n      <th></th>\n      <th>학제별</th>\n      <th>설립별</th>\n      <th>대학명</th>\n      <th>지역별</th>\n      <th>입학정원 합(명)</th>\n      <th>평균 입학금(천원)</th>\n      <th>평균등록금(천원)</th>\n    </tr>\n  </thead>\n  <tbody>\n    <tr>\n      <td>0</td>\n      <td>대학</td>\n      <td>국공립</td>\n      <td>강릉원주대학교</td>\n      <td>강원</td>\n      <td>7412</td>\n      <td>0.0</td>\n      <td>4264.4</td>\n    </tr>\n    <tr>\n      <td>1</td>\n      <td>대학</td>\n      <td>국공립</td>\n      <td>강원대학교</td>\n      <td>강원</td>\n      <td>18255</td>\n      <td>0.0</td>\n      <td>4114.2</td>\n    </tr>\n    <tr>\n      <td>2</td>\n      <td>대학</td>\n      <td>국공립</td>\n      <td>경남과학기술대학교</td>\n      <td>경남</td>\n      <td>4767</td>\n      <td>0.0</td>\n      <td>3776.3</td>\n    </tr>\n    <tr>\n      <td>3</td>\n      <td>대학</td>\n      <td>국공립</td>\n      <td>경북대학교</td>\n      <td>대구</td>\n      <td>19178</td>\n      <td>0.0</td>\n      <td>4500.6</td>\n    </tr>\n    <tr>\n      <td>4</td>\n      <td>대학</td>\n      <td>국공립</td>\n      <td>경상대학교</td>\n      <td>경남</td>\n      <td>12528</td>\n      <td>0.0</td>\n      <td>4090.0</td>\n    </tr>\n    <tr>\n      <td>...</td>\n      <td>...</td>\n      <td>...</td>\n      <td>...</td>\n      <td>...</td>\n      <td>...</td>\n      <td>...</td>\n      <td>...</td>\n    </tr>\n    <tr>\n      <td>381</td>\n      <td>전문대학</td>\n      <td>사립</td>\n      <td>한림성심대학교</td>\n      <td>강원</td>\n      <td>2609</td>\n      <td>8141.7</td>\n      <td>5598.9</td>\n    </tr>\n    <tr>\n      <td>382</td>\n      <td>전문대학</td>\n      <td>사립</td>\n      <td>한양여자대학교</td>\n      <td>서울</td>\n      <td>6252</td>\n      <td>5245.5</td>\n      <td>6085.5</td>\n    </tr>\n    <tr>\n      <td>383</td>\n      <td>전문대학</td>\n      <td>사립</td>\n      <td>한영대학</td>\n      <td>전남</td>\n      <td>1349</td>\n      <td>3492.7</td>\n      <td>5258.1</td>\n    </tr>\n    <tr>\n      <td>384</td>\n      <td>전문대학</td>\n      <td>사립</td>\n      <td>혜전대학교</td>\n      <td>충남</td>\n      <td>2838</td>\n      <td>4506.2</td>\n      <td>5802.0</td>\n    </tr>\n    <tr>\n      <td>385</td>\n      <td>전문대학</td>\n      <td>사립</td>\n      <td>호산대학교</td>\n      <td>경북</td>\n      <td>1776</td>\n      <td>9687.7</td>\n      <td>5648.8</td>\n    </tr>\n  </tbody>\n</table>\n<p>386 rows × 7 columns</p>\n</div>"
     },
     "metadata": {},
     "execution_count": 273
    }
   ],
   "source": [
    "#### P.2-1 Answer Code\n",
    "\n",
    "####\n",
    "df"
   ]
  },
  {
   "cell_type": "markdown",
   "metadata": {},
   "source": [
    "## P.2-2  \n",
    "df의 앞의 15개 행을 출력해봅시다. (head() 사용)"
   ]
  },
  {
   "cell_type": "code",
   "execution_count": 274,
   "metadata": {},
   "outputs": [
    {
     "output_type": "execute_result",
     "data": {
      "text/plain": "   학제별  설립별        대학명 지역별  입학정원 합(명) 평균 입학금(천원)  평균등록금(천원)\n0   대학  국공립    강릉원주대학교  강원       7412       0.0      4264.4\n1   대학  국공립      강원대학교  강원      18255       0.0      4114.2\n2   대학  국공립  경남과학기술대학교  경남       4767       0.0      3776.3\n3   대학  국공립      경북대학교  대구      19178       0.0      4500.6\n4   대학  국공립      경상대학교  경남      12528       0.0      4090.0\n5   대학  국공립    경인교육대학교  인천       2392       0.0      3189.0\n6   대학  국공립    공주교육대학교  충남       1416       0.0      3424.0\n7   대학  국공립      공주대학교  충남      10953       0.0      3824.0\n8   대학  국공립    광주과학기술원  광주        778       0.0      2060.0\n9   대학  국공립    광주교육대학교  광주       1304       0.0      3476.5\n10  대학  국공립      군산대학교  전북       6940       0.0      3934.3\n11  대학  국공립    금오공과대학교  경북       4850       0.0      3770.9\n12  대학  국공립  대구경북과학기술원  대구        880       0.0      1750.0\n13  대학  국공립    대구교육대학교  대구       1532       0.0      3604.0\n14  대학  국공립      목포대학교  전남       6453       0.0      3894.0",
      "text/html": "<div>\n<style scoped>\n    .dataframe tbody tr th:only-of-type {\n        vertical-align: middle;\n    }\n\n    .dataframe tbody tr th {\n        vertical-align: top;\n    }\n\n    .dataframe thead th {\n        text-align: right;\n    }\n</style>\n<table border=\"1\" class=\"dataframe\">\n  <thead>\n    <tr style=\"text-align: right;\">\n      <th></th>\n      <th>학제별</th>\n      <th>설립별</th>\n      <th>대학명</th>\n      <th>지역별</th>\n      <th>입학정원 합(명)</th>\n      <th>평균 입학금(천원)</th>\n      <th>평균등록금(천원)</th>\n    </tr>\n  </thead>\n  <tbody>\n    <tr>\n      <td>0</td>\n      <td>대학</td>\n      <td>국공립</td>\n      <td>강릉원주대학교</td>\n      <td>강원</td>\n      <td>7412</td>\n      <td>0.0</td>\n      <td>4264.4</td>\n    </tr>\n    <tr>\n      <td>1</td>\n      <td>대학</td>\n      <td>국공립</td>\n      <td>강원대학교</td>\n      <td>강원</td>\n      <td>18255</td>\n      <td>0.0</td>\n      <td>4114.2</td>\n    </tr>\n    <tr>\n      <td>2</td>\n      <td>대학</td>\n      <td>국공립</td>\n      <td>경남과학기술대학교</td>\n      <td>경남</td>\n      <td>4767</td>\n      <td>0.0</td>\n      <td>3776.3</td>\n    </tr>\n    <tr>\n      <td>3</td>\n      <td>대학</td>\n      <td>국공립</td>\n      <td>경북대학교</td>\n      <td>대구</td>\n      <td>19178</td>\n      <td>0.0</td>\n      <td>4500.6</td>\n    </tr>\n    <tr>\n      <td>4</td>\n      <td>대학</td>\n      <td>국공립</td>\n      <td>경상대학교</td>\n      <td>경남</td>\n      <td>12528</td>\n      <td>0.0</td>\n      <td>4090.0</td>\n    </tr>\n    <tr>\n      <td>5</td>\n      <td>대학</td>\n      <td>국공립</td>\n      <td>경인교육대학교</td>\n      <td>인천</td>\n      <td>2392</td>\n      <td>0.0</td>\n      <td>3189.0</td>\n    </tr>\n    <tr>\n      <td>6</td>\n      <td>대학</td>\n      <td>국공립</td>\n      <td>공주교육대학교</td>\n      <td>충남</td>\n      <td>1416</td>\n      <td>0.0</td>\n      <td>3424.0</td>\n    </tr>\n    <tr>\n      <td>7</td>\n      <td>대학</td>\n      <td>국공립</td>\n      <td>공주대학교</td>\n      <td>충남</td>\n      <td>10953</td>\n      <td>0.0</td>\n      <td>3824.0</td>\n    </tr>\n    <tr>\n      <td>8</td>\n      <td>대학</td>\n      <td>국공립</td>\n      <td>광주과학기술원</td>\n      <td>광주</td>\n      <td>778</td>\n      <td>0.0</td>\n      <td>2060.0</td>\n    </tr>\n    <tr>\n      <td>9</td>\n      <td>대학</td>\n      <td>국공립</td>\n      <td>광주교육대학교</td>\n      <td>광주</td>\n      <td>1304</td>\n      <td>0.0</td>\n      <td>3476.5</td>\n    </tr>\n    <tr>\n      <td>10</td>\n      <td>대학</td>\n      <td>국공립</td>\n      <td>군산대학교</td>\n      <td>전북</td>\n      <td>6940</td>\n      <td>0.0</td>\n      <td>3934.3</td>\n    </tr>\n    <tr>\n      <td>11</td>\n      <td>대학</td>\n      <td>국공립</td>\n      <td>금오공과대학교</td>\n      <td>경북</td>\n      <td>4850</td>\n      <td>0.0</td>\n      <td>3770.9</td>\n    </tr>\n    <tr>\n      <td>12</td>\n      <td>대학</td>\n      <td>국공립</td>\n      <td>대구경북과학기술원</td>\n      <td>대구</td>\n      <td>880</td>\n      <td>0.0</td>\n      <td>1750.0</td>\n    </tr>\n    <tr>\n      <td>13</td>\n      <td>대학</td>\n      <td>국공립</td>\n      <td>대구교육대학교</td>\n      <td>대구</td>\n      <td>1532</td>\n      <td>0.0</td>\n      <td>3604.0</td>\n    </tr>\n    <tr>\n      <td>14</td>\n      <td>대학</td>\n      <td>국공립</td>\n      <td>목포대학교</td>\n      <td>전남</td>\n      <td>6453</td>\n      <td>0.0</td>\n      <td>3894.0</td>\n    </tr>\n  </tbody>\n</table>\n</div>"
     },
     "metadata": {},
     "execution_count": 274
    }
   ],
   "source": [
    "#### P.2-2 Answer code\n",
    "\n",
    "####"
   ]
  },
  {
   "cell_type": "markdown",
   "metadata": {},
   "source": [
    "## P.2-3\n",
    "df의 구조를 파악하기 위해 본 데이터프레임의 정보를 출력 해봅시다. (info 사용)"
   ]
  },
  {
   "cell_type": "code",
   "execution_count": 275,
   "metadata": {
    "tags": []
   },
   "outputs": [
    {
     "output_type": "stream",
     "name": "stdout",
     "text": "<class 'pandas.core.frame.DataFrame'>\nRangeIndex: 386 entries, 0 to 385\nData columns (total 7 columns):\n학제별           386 non-null object\n설립별           386 non-null object\n대학명           386 non-null object\n지역별           386 non-null object\n입학정원 합(명)     386 non-null int64\n평균 입학금(천원)    386 non-null object\n평균등록금(천원)     386 non-null float64\ndtypes: float64(1), int64(1), object(5)\nmemory usage: 21.2+ KB\n"
    }
   ],
   "source": [
    "#### P.2-3\n",
    "\n",
    "####"
   ]
  },
  {
   "cell_type": "markdown",
   "metadata": {},
   "source": [
    "## P.2-4\n",
    "본격적으로 데이터 분석을 시작하기 전에 불필요한 열을 제거하고자 합니다.  \n",
    "df에서 \"지역별\" column을 제거해봅시다. 제거하고 난 데이터프레임은 df2에 저장합니다."
   ]
  },
  {
   "cell_type": "code",
   "execution_count": 276,
   "metadata": {
    "tags": []
   },
   "outputs": [
    {
     "output_type": "execute_result",
     "data": {
      "text/plain": "      학제별  설립별        대학명  입학정원 합(명) 평균 입학금(천원)  평균등록금(천원)\n0      대학  국공립    강릉원주대학교       7412       0.0      4264.4\n1      대학  국공립      강원대학교      18255       0.0      4114.2\n2      대학  국공립  경남과학기술대학교       4767       0.0      3776.3\n3      대학  국공립      경북대학교      19178       0.0      4500.6\n4      대학  국공립      경상대학교      12528       0.0      4090.0\n..    ...  ...        ...        ...        ...        ...\n381  전문대학   사립    한림성심대학교       2609    8141.7      5598.9\n382  전문대학   사립    한양여자대학교       6252    5245.5      6085.5\n383  전문대학   사립       한영대학       1349    3492.7      5258.1\n384  전문대학   사립      혜전대학교       2838    4506.2      5802.0\n385  전문대학   사립      호산대학교       1776    9687.7      5648.8\n\n[386 rows x 6 columns]",
      "text/html": "<div>\n<style scoped>\n    .dataframe tbody tr th:only-of-type {\n        vertical-align: middle;\n    }\n\n    .dataframe tbody tr th {\n        vertical-align: top;\n    }\n\n    .dataframe thead th {\n        text-align: right;\n    }\n</style>\n<table border=\"1\" class=\"dataframe\">\n  <thead>\n    <tr style=\"text-align: right;\">\n      <th></th>\n      <th>학제별</th>\n      <th>설립별</th>\n      <th>대학명</th>\n      <th>입학정원 합(명)</th>\n      <th>평균 입학금(천원)</th>\n      <th>평균등록금(천원)</th>\n    </tr>\n  </thead>\n  <tbody>\n    <tr>\n      <td>0</td>\n      <td>대학</td>\n      <td>국공립</td>\n      <td>강릉원주대학교</td>\n      <td>7412</td>\n      <td>0.0</td>\n      <td>4264.4</td>\n    </tr>\n    <tr>\n      <td>1</td>\n      <td>대학</td>\n      <td>국공립</td>\n      <td>강원대학교</td>\n      <td>18255</td>\n      <td>0.0</td>\n      <td>4114.2</td>\n    </tr>\n    <tr>\n      <td>2</td>\n      <td>대학</td>\n      <td>국공립</td>\n      <td>경남과학기술대학교</td>\n      <td>4767</td>\n      <td>0.0</td>\n      <td>3776.3</td>\n    </tr>\n    <tr>\n      <td>3</td>\n      <td>대학</td>\n      <td>국공립</td>\n      <td>경북대학교</td>\n      <td>19178</td>\n      <td>0.0</td>\n      <td>4500.6</td>\n    </tr>\n    <tr>\n      <td>4</td>\n      <td>대학</td>\n      <td>국공립</td>\n      <td>경상대학교</td>\n      <td>12528</td>\n      <td>0.0</td>\n      <td>4090.0</td>\n    </tr>\n    <tr>\n      <td>...</td>\n      <td>...</td>\n      <td>...</td>\n      <td>...</td>\n      <td>...</td>\n      <td>...</td>\n      <td>...</td>\n    </tr>\n    <tr>\n      <td>381</td>\n      <td>전문대학</td>\n      <td>사립</td>\n      <td>한림성심대학교</td>\n      <td>2609</td>\n      <td>8141.7</td>\n      <td>5598.9</td>\n    </tr>\n    <tr>\n      <td>382</td>\n      <td>전문대학</td>\n      <td>사립</td>\n      <td>한양여자대학교</td>\n      <td>6252</td>\n      <td>5245.5</td>\n      <td>6085.5</td>\n    </tr>\n    <tr>\n      <td>383</td>\n      <td>전문대학</td>\n      <td>사립</td>\n      <td>한영대학</td>\n      <td>1349</td>\n      <td>3492.7</td>\n      <td>5258.1</td>\n    </tr>\n    <tr>\n      <td>384</td>\n      <td>전문대학</td>\n      <td>사립</td>\n      <td>혜전대학교</td>\n      <td>2838</td>\n      <td>4506.2</td>\n      <td>5802.0</td>\n    </tr>\n    <tr>\n      <td>385</td>\n      <td>전문대학</td>\n      <td>사립</td>\n      <td>호산대학교</td>\n      <td>1776</td>\n      <td>9687.7</td>\n      <td>5648.8</td>\n    </tr>\n  </tbody>\n</table>\n<p>386 rows × 6 columns</p>\n</div>"
     },
     "metadata": {},
     "execution_count": 276
    }
   ],
   "source": [
    "#### P.2-4\n",
    "\n",
    "####\n",
    "df2"
   ]
  },
  {
   "cell_type": "markdown",
   "metadata": {},
   "source": [
    "## P.2-5\n",
    "df2에 결측치(NaN)가 있는지 확인해보고자 합니다.  \n",
    "각 column별 결측치의 개수를 출력해봅시다. (isnull, sum 사용)"
   ]
  },
  {
   "cell_type": "code",
   "execution_count": 277,
   "metadata": {
    "tags": []
   },
   "outputs": [
    {
     "output_type": "stream",
     "name": "stdout",
     "text": "학제별           0\n설립별           0\n대학명           0\n입학정원 합(명)     0\n평균 입학금(천원)    0\n평균등록금(천원)     0\ndtype: int64\n"
    }
   ],
   "source": [
    "#### P.2-6\n",
    "\n",
    "####"
   ]
  },
  {
   "cell_type": "markdown",
   "metadata": {},
   "source": [
    "## P.2-6\n",
    "\"학제별\"과 \"설립별\" column에 어떤 값들이 존재하는지 확인해보고자 합니다.  \n",
    "df2에서 각 column의 고유한 값들을 각각 val_lst1과 val_lst2에 리스트 자료형으로 저장해봅시다.  (unique 사용)\n"
   ]
  },
  {
   "cell_type": "code",
   "execution_count": 278,
   "metadata": {
    "tags": []
   },
   "outputs": [
    {
     "output_type": "stream",
     "name": "stdout",
     "text": "['대학' '전문대학']\n['국공립' '사립']\n"
    }
   ],
   "source": [
    "#### P.2-6\n",
    "\n",
    "####\n",
    "print(val_lst1)\n",
    "print(val_lst2)"
   ]
  },
  {
   "cell_type": "markdown",
   "metadata": {},
   "source": [
    "## P.2-7\n",
    "본 분석에서는 전문 대학은 포함시키지 않을 것입니다.  \n",
    "따라서 \"학제별\"이 \"전문대학\"인 행은 제거해봅시다. \n",
    "제거하고 난 데이터 프레임은 df3에 저장합니다."
   ]
  },
  {
   "cell_type": "code",
   "execution_count": 279,
   "metadata": {},
   "outputs": [
    {
     "output_type": "execute_result",
     "data": {
      "text/plain": "    학제별  설립별        대학명  입학정원 합(명) 평균 입학금(천원)  평균등록금(천원)\n0    대학  국공립    강릉원주대학교       7412       0.0      4264.4\n1    대학  국공립      강원대학교      18255       0.0      4114.2\n2    대학  국공립  경남과학기술대학교       4767       0.0      3776.3\n3    대학  국공립      경북대학교      19178       0.0      4500.6\n4    대학  국공립      경상대학교      12528       0.0      4090.0\n..   ..  ...        ...        ...        ...        ...\n214  대학   사립    호남신학대학교        584    5709.4      6658.9\n215  대학   사립      호서대학교      11562    5310.7      7727.9\n216  대학   사립      호원대학교       4634    4593.7      6929.1\n217  대학   사립      홍익대학교      14977    7195.6      8343.4\n218  대학   사립   화신사이버대학교       1490    2330.0      2444.8\n\n[219 rows x 6 columns]",
      "text/html": "<div>\n<style scoped>\n    .dataframe tbody tr th:only-of-type {\n        vertical-align: middle;\n    }\n\n    .dataframe tbody tr th {\n        vertical-align: top;\n    }\n\n    .dataframe thead th {\n        text-align: right;\n    }\n</style>\n<table border=\"1\" class=\"dataframe\">\n  <thead>\n    <tr style=\"text-align: right;\">\n      <th></th>\n      <th>학제별</th>\n      <th>설립별</th>\n      <th>대학명</th>\n      <th>입학정원 합(명)</th>\n      <th>평균 입학금(천원)</th>\n      <th>평균등록금(천원)</th>\n    </tr>\n  </thead>\n  <tbody>\n    <tr>\n      <td>0</td>\n      <td>대학</td>\n      <td>국공립</td>\n      <td>강릉원주대학교</td>\n      <td>7412</td>\n      <td>0.0</td>\n      <td>4264.4</td>\n    </tr>\n    <tr>\n      <td>1</td>\n      <td>대학</td>\n      <td>국공립</td>\n      <td>강원대학교</td>\n      <td>18255</td>\n      <td>0.0</td>\n      <td>4114.2</td>\n    </tr>\n    <tr>\n      <td>2</td>\n      <td>대학</td>\n      <td>국공립</td>\n      <td>경남과학기술대학교</td>\n      <td>4767</td>\n      <td>0.0</td>\n      <td>3776.3</td>\n    </tr>\n    <tr>\n      <td>3</td>\n      <td>대학</td>\n      <td>국공립</td>\n      <td>경북대학교</td>\n      <td>19178</td>\n      <td>0.0</td>\n      <td>4500.6</td>\n    </tr>\n    <tr>\n      <td>4</td>\n      <td>대학</td>\n      <td>국공립</td>\n      <td>경상대학교</td>\n      <td>12528</td>\n      <td>0.0</td>\n      <td>4090.0</td>\n    </tr>\n    <tr>\n      <td>...</td>\n      <td>...</td>\n      <td>...</td>\n      <td>...</td>\n      <td>...</td>\n      <td>...</td>\n      <td>...</td>\n    </tr>\n    <tr>\n      <td>214</td>\n      <td>대학</td>\n      <td>사립</td>\n      <td>호남신학대학교</td>\n      <td>584</td>\n      <td>5709.4</td>\n      <td>6658.9</td>\n    </tr>\n    <tr>\n      <td>215</td>\n      <td>대학</td>\n      <td>사립</td>\n      <td>호서대학교</td>\n      <td>11562</td>\n      <td>5310.7</td>\n      <td>7727.9</td>\n    </tr>\n    <tr>\n      <td>216</td>\n      <td>대학</td>\n      <td>사립</td>\n      <td>호원대학교</td>\n      <td>4634</td>\n      <td>4593.7</td>\n      <td>6929.1</td>\n    </tr>\n    <tr>\n      <td>217</td>\n      <td>대학</td>\n      <td>사립</td>\n      <td>홍익대학교</td>\n      <td>14977</td>\n      <td>7195.6</td>\n      <td>8343.4</td>\n    </tr>\n    <tr>\n      <td>218</td>\n      <td>대학</td>\n      <td>사립</td>\n      <td>화신사이버대학교</td>\n      <td>1490</td>\n      <td>2330.0</td>\n      <td>2444.8</td>\n    </tr>\n  </tbody>\n</table>\n<p>219 rows × 6 columns</p>\n</div>"
     },
     "metadata": {},
     "execution_count": 279
    }
   ],
   "source": [
    "#### P.2-7\n",
    "\n",
    "####\n",
    "df3"
   ]
  },
  {
   "cell_type": "markdown",
   "metadata": {},
   "source": [
    "## P.2-8\n",
    "df3에서 국공립 대학교와 사립 대학교가 각각 몇개인지 알고 싶습니다.  \n",
    "국공립 대학교와 사립 대학교의 개수를 cnt_univ에 Series 자료형으로 저장해봅시다. (value_counts 사용)"
   ]
  },
  {
   "cell_type": "code",
   "execution_count": 280,
   "metadata": {
    "tags": []
   },
   "outputs": [
    {
     "output_type": "stream",
     "name": "stdout",
     "text": "사립     172\n국공립     47\nName: 설립별, dtype: int64\n"
    }
   ],
   "source": [
    "## P.2-8\n",
    "\n",
    "##\n",
    "print(cnt_univ)"
   ]
  },
  {
   "cell_type": "markdown",
   "metadata": {},
   "source": [
    "## P.2-9\n",
    "df3를 \"평균등록금(천원)\" 컬럼을 기준으로 내림차 순으로 정렬해 봅시다.  (sort_values 사용)  \n",
    "정렬한 결과는 df4에 저장해 봅시다."
   ]
  },
  {
   "cell_type": "code",
   "execution_count": 281,
   "metadata": {},
   "outputs": [
    {
     "output_type": "execute_result",
     "data": {
      "text/plain": "    학제별  설립별        대학명  입학정원 합(명) 평균 입학금(천원)  평균등록금(천원)\n195  대학   사립  한국산업기술대학교       5520    4130.4      8996.2\n152  대학   사립      연세대학교      20216    8685.8      8930.4\n148  대학   사립      신한대학교       5712    8556.7      8695.2\n168  대학   사립    이화여자대학교      12740   10876.7      8691.6\n187  대학   사립    추계예술대학교       1097   17011.2      8677.0\n..   ..  ...        ...        ...        ...        ...\n179  대학   사립    중앙승가대학교        480    1400.0      1760.0\n12   대학  국공립  대구경북과학기술원        880       0.0      1750.0\n41   대학  국공립  한국방송통신대학교     247650       0.0       756.1\n174  대학   사립       정석대학        200       0.0         0.0\n71   대학   사립   광주가톨릭대학교        160       0.0         0.0\n\n[219 rows x 6 columns]",
      "text/html": "<div>\n<style scoped>\n    .dataframe tbody tr th:only-of-type {\n        vertical-align: middle;\n    }\n\n    .dataframe tbody tr th {\n        vertical-align: top;\n    }\n\n    .dataframe thead th {\n        text-align: right;\n    }\n</style>\n<table border=\"1\" class=\"dataframe\">\n  <thead>\n    <tr style=\"text-align: right;\">\n      <th></th>\n      <th>학제별</th>\n      <th>설립별</th>\n      <th>대학명</th>\n      <th>입학정원 합(명)</th>\n      <th>평균 입학금(천원)</th>\n      <th>평균등록금(천원)</th>\n    </tr>\n  </thead>\n  <tbody>\n    <tr>\n      <td>195</td>\n      <td>대학</td>\n      <td>사립</td>\n      <td>한국산업기술대학교</td>\n      <td>5520</td>\n      <td>4130.4</td>\n      <td>8996.2</td>\n    </tr>\n    <tr>\n      <td>152</td>\n      <td>대학</td>\n      <td>사립</td>\n      <td>연세대학교</td>\n      <td>20216</td>\n      <td>8685.8</td>\n      <td>8930.4</td>\n    </tr>\n    <tr>\n      <td>148</td>\n      <td>대학</td>\n      <td>사립</td>\n      <td>신한대학교</td>\n      <td>5712</td>\n      <td>8556.7</td>\n      <td>8695.2</td>\n    </tr>\n    <tr>\n      <td>168</td>\n      <td>대학</td>\n      <td>사립</td>\n      <td>이화여자대학교</td>\n      <td>12740</td>\n      <td>10876.7</td>\n      <td>8691.6</td>\n    </tr>\n    <tr>\n      <td>187</td>\n      <td>대학</td>\n      <td>사립</td>\n      <td>추계예술대학교</td>\n      <td>1097</td>\n      <td>17011.2</td>\n      <td>8677.0</td>\n    </tr>\n    <tr>\n      <td>...</td>\n      <td>...</td>\n      <td>...</td>\n      <td>...</td>\n      <td>...</td>\n      <td>...</td>\n      <td>...</td>\n    </tr>\n    <tr>\n      <td>179</td>\n      <td>대학</td>\n      <td>사립</td>\n      <td>중앙승가대학교</td>\n      <td>480</td>\n      <td>1400.0</td>\n      <td>1760.0</td>\n    </tr>\n    <tr>\n      <td>12</td>\n      <td>대학</td>\n      <td>국공립</td>\n      <td>대구경북과학기술원</td>\n      <td>880</td>\n      <td>0.0</td>\n      <td>1750.0</td>\n    </tr>\n    <tr>\n      <td>41</td>\n      <td>대학</td>\n      <td>국공립</td>\n      <td>한국방송통신대학교</td>\n      <td>247650</td>\n      <td>0.0</td>\n      <td>756.1</td>\n    </tr>\n    <tr>\n      <td>174</td>\n      <td>대학</td>\n      <td>사립</td>\n      <td>정석대학</td>\n      <td>200</td>\n      <td>0.0</td>\n      <td>0.0</td>\n    </tr>\n    <tr>\n      <td>71</td>\n      <td>대학</td>\n      <td>사립</td>\n      <td>광주가톨릭대학교</td>\n      <td>160</td>\n      <td>0.0</td>\n      <td>0.0</td>\n    </tr>\n  </tbody>\n</table>\n<p>219 rows × 6 columns</p>\n</div>"
     },
     "metadata": {},
     "execution_count": 281
    }
   ],
   "source": [
    "#### P.2-9\n",
    "\n",
    "####\n",
    "df4"
   ]
  },
  {
   "cell_type": "markdown",
   "metadata": {},
   "source": [
    "## P.2-10\n",
    "평균등록금(천원)이 0원인 대학교는 제거해 봅시다.  \n",
    "제거한 결과는 df5에 저장해 봅시다."
   ]
  },
  {
   "cell_type": "code",
   "execution_count": 282,
   "metadata": {},
   "outputs": [
    {
     "output_type": "execute_result",
     "data": {
      "text/plain": "    학제별  설립별        대학명  입학정원 합(명) 평균 입학금(천원)  평균등록금(천원)\n195  대학   사립  한국산업기술대학교       5520    4130.4      8996.2\n152  대학   사립      연세대학교      20216    8685.8      8930.4\n148  대학   사립      신한대학교       5712    8556.7      8695.2\n168  대학   사립    이화여자대학교      12740   10876.7      8691.6\n187  대학   사립    추계예술대학교       1097   17011.2      8677.0\n..   ..  ...        ...        ...        ...        ...\n8    대학  국공립    광주과학기술원        778       0.0      2060.0\n156  대학   사립    영산선학대학교        200       0.0      2000.0\n179  대학   사립    중앙승가대학교        480    1400.0      1760.0\n12   대학  국공립  대구경북과학기술원        880       0.0      1750.0\n41   대학  국공립  한국방송통신대학교     247650       0.0       756.1\n\n[217 rows x 6 columns]",
      "text/html": "<div>\n<style scoped>\n    .dataframe tbody tr th:only-of-type {\n        vertical-align: middle;\n    }\n\n    .dataframe tbody tr th {\n        vertical-align: top;\n    }\n\n    .dataframe thead th {\n        text-align: right;\n    }\n</style>\n<table border=\"1\" class=\"dataframe\">\n  <thead>\n    <tr style=\"text-align: right;\">\n      <th></th>\n      <th>학제별</th>\n      <th>설립별</th>\n      <th>대학명</th>\n      <th>입학정원 합(명)</th>\n      <th>평균 입학금(천원)</th>\n      <th>평균등록금(천원)</th>\n    </tr>\n  </thead>\n  <tbody>\n    <tr>\n      <td>195</td>\n      <td>대학</td>\n      <td>사립</td>\n      <td>한국산업기술대학교</td>\n      <td>5520</td>\n      <td>4130.4</td>\n      <td>8996.2</td>\n    </tr>\n    <tr>\n      <td>152</td>\n      <td>대학</td>\n      <td>사립</td>\n      <td>연세대학교</td>\n      <td>20216</td>\n      <td>8685.8</td>\n      <td>8930.4</td>\n    </tr>\n    <tr>\n      <td>148</td>\n      <td>대학</td>\n      <td>사립</td>\n      <td>신한대학교</td>\n      <td>5712</td>\n      <td>8556.7</td>\n      <td>8695.2</td>\n    </tr>\n    <tr>\n      <td>168</td>\n      <td>대학</td>\n      <td>사립</td>\n      <td>이화여자대학교</td>\n      <td>12740</td>\n      <td>10876.7</td>\n      <td>8691.6</td>\n    </tr>\n    <tr>\n      <td>187</td>\n      <td>대학</td>\n      <td>사립</td>\n      <td>추계예술대학교</td>\n      <td>1097</td>\n      <td>17011.2</td>\n      <td>8677.0</td>\n    </tr>\n    <tr>\n      <td>...</td>\n      <td>...</td>\n      <td>...</td>\n      <td>...</td>\n      <td>...</td>\n      <td>...</td>\n      <td>...</td>\n    </tr>\n    <tr>\n      <td>8</td>\n      <td>대학</td>\n      <td>국공립</td>\n      <td>광주과학기술원</td>\n      <td>778</td>\n      <td>0.0</td>\n      <td>2060.0</td>\n    </tr>\n    <tr>\n      <td>156</td>\n      <td>대학</td>\n      <td>사립</td>\n      <td>영산선학대학교</td>\n      <td>200</td>\n      <td>0.0</td>\n      <td>2000.0</td>\n    </tr>\n    <tr>\n      <td>179</td>\n      <td>대학</td>\n      <td>사립</td>\n      <td>중앙승가대학교</td>\n      <td>480</td>\n      <td>1400.0</td>\n      <td>1760.0</td>\n    </tr>\n    <tr>\n      <td>12</td>\n      <td>대학</td>\n      <td>국공립</td>\n      <td>대구경북과학기술원</td>\n      <td>880</td>\n      <td>0.0</td>\n      <td>1750.0</td>\n    </tr>\n    <tr>\n      <td>41</td>\n      <td>대학</td>\n      <td>국공립</td>\n      <td>한국방송통신대학교</td>\n      <td>247650</td>\n      <td>0.0</td>\n      <td>756.1</td>\n    </tr>\n  </tbody>\n</table>\n<p>217 rows × 6 columns</p>\n</div>"
     },
     "metadata": {},
     "execution_count": 282
    }
   ],
   "source": [
    "#### P.2-10\n",
    "\n",
    "####\n",
    "df5"
   ]
  },
  {
   "cell_type": "markdown",
   "metadata": {},
   "source": [
    "## P.2-11\n",
    "데이터 정렬과 행 삭제를 거치면서 index가 흐트러졌습니다.  \n",
    "index를 reset하고 그 결과는 df6에 저장합니다. (reset_index 사용)\n",
    "> reset_index를 거치면 index column이 생성될 수도 있습니다. index 컬럼은 삭제해 주세요."
   ]
  },
  {
   "cell_type": "code",
   "execution_count": 283,
   "metadata": {},
   "outputs": [
    {
     "output_type": "execute_result",
     "data": {
      "text/plain": "    학제별  설립별        대학명  입학정원 합(명) 평균 입학금(천원)  평균등록금(천원)\n0    대학   사립  한국산업기술대학교       5520    4130.4      8996.2\n1    대학   사립      연세대학교      20216    8685.8      8930.4\n2    대학   사립      신한대학교       5712    8556.7      8695.2\n3    대학   사립    이화여자대학교      12740   10876.7      8691.6\n4    대학   사립    추계예술대학교       1097   17011.2      8677.0\n..   ..  ...        ...        ...        ...        ...\n212  대학  국공립    광주과학기술원        778       0.0      2060.0\n213  대학   사립    영산선학대학교        200       0.0      2000.0\n214  대학   사립    중앙승가대학교        480    1400.0      1760.0\n215  대학  국공립  대구경북과학기술원        880       0.0      1750.0\n216  대학  국공립  한국방송통신대학교     247650       0.0       756.1\n\n[217 rows x 6 columns]",
      "text/html": "<div>\n<style scoped>\n    .dataframe tbody tr th:only-of-type {\n        vertical-align: middle;\n    }\n\n    .dataframe tbody tr th {\n        vertical-align: top;\n    }\n\n    .dataframe thead th {\n        text-align: right;\n    }\n</style>\n<table border=\"1\" class=\"dataframe\">\n  <thead>\n    <tr style=\"text-align: right;\">\n      <th></th>\n      <th>학제별</th>\n      <th>설립별</th>\n      <th>대학명</th>\n      <th>입학정원 합(명)</th>\n      <th>평균 입학금(천원)</th>\n      <th>평균등록금(천원)</th>\n    </tr>\n  </thead>\n  <tbody>\n    <tr>\n      <td>0</td>\n      <td>대학</td>\n      <td>사립</td>\n      <td>한국산업기술대학교</td>\n      <td>5520</td>\n      <td>4130.4</td>\n      <td>8996.2</td>\n    </tr>\n    <tr>\n      <td>1</td>\n      <td>대학</td>\n      <td>사립</td>\n      <td>연세대학교</td>\n      <td>20216</td>\n      <td>8685.8</td>\n      <td>8930.4</td>\n    </tr>\n    <tr>\n      <td>2</td>\n      <td>대학</td>\n      <td>사립</td>\n      <td>신한대학교</td>\n      <td>5712</td>\n      <td>8556.7</td>\n      <td>8695.2</td>\n    </tr>\n    <tr>\n      <td>3</td>\n      <td>대학</td>\n      <td>사립</td>\n      <td>이화여자대학교</td>\n      <td>12740</td>\n      <td>10876.7</td>\n      <td>8691.6</td>\n    </tr>\n    <tr>\n      <td>4</td>\n      <td>대학</td>\n      <td>사립</td>\n      <td>추계예술대학교</td>\n      <td>1097</td>\n      <td>17011.2</td>\n      <td>8677.0</td>\n    </tr>\n    <tr>\n      <td>...</td>\n      <td>...</td>\n      <td>...</td>\n      <td>...</td>\n      <td>...</td>\n      <td>...</td>\n      <td>...</td>\n    </tr>\n    <tr>\n      <td>212</td>\n      <td>대학</td>\n      <td>국공립</td>\n      <td>광주과학기술원</td>\n      <td>778</td>\n      <td>0.0</td>\n      <td>2060.0</td>\n    </tr>\n    <tr>\n      <td>213</td>\n      <td>대학</td>\n      <td>사립</td>\n      <td>영산선학대학교</td>\n      <td>200</td>\n      <td>0.0</td>\n      <td>2000.0</td>\n    </tr>\n    <tr>\n      <td>214</td>\n      <td>대학</td>\n      <td>사립</td>\n      <td>중앙승가대학교</td>\n      <td>480</td>\n      <td>1400.0</td>\n      <td>1760.0</td>\n    </tr>\n    <tr>\n      <td>215</td>\n      <td>대학</td>\n      <td>국공립</td>\n      <td>대구경북과학기술원</td>\n      <td>880</td>\n      <td>0.0</td>\n      <td>1750.0</td>\n    </tr>\n    <tr>\n      <td>216</td>\n      <td>대학</td>\n      <td>국공립</td>\n      <td>한국방송통신대학교</td>\n      <td>247650</td>\n      <td>0.0</td>\n      <td>756.1</td>\n    </tr>\n  </tbody>\n</table>\n<p>217 rows × 6 columns</p>\n</div>"
     },
     "metadata": {},
     "execution_count": 283
    }
   ],
   "source": [
    "#### P.2-11\n",
    "\n",
    "####\n",
    "df6"
   ]
  },
  {
   "cell_type": "markdown",
   "metadata": {},
   "source": [
    "## P.2-12\n",
    "df6에서 대학교들의 평균등록금의 평균과 표준편차를 출력해 봅시다.  \n",
    "각각의 값을 price_mean과 price_std에 저장합니다.\n"
   ]
  },
  {
   "cell_type": "code",
   "execution_count": 284,
   "metadata": {
    "tags": []
   },
   "outputs": [
    {
     "output_type": "stream",
     "name": "stdout",
     "text": "6059.19677419355\n1930.16610723464\n"
    }
   ],
   "source": [
    "#### P.2-12\n",
    "\n",
    "####\n",
    "print(price_mean)\n",
    "print(price_std)"
   ]
  },
  {
   "cell_type": "markdown",
   "metadata": {},
   "source": [
    "## P.2-13\n",
    "df6에서 \"등록금순위(설립별)\"라는 column을 새로 만듭니다.  \n",
    "여기에는 사립과 국공립별로 매겨진 등록금 순위 값을 저장합니다. (내림차순) (국립 1등부터 순위, 사립 1등부터 순위 매김 ) (groupby, rank 사용)"
   ]
  },
  {
   "cell_type": "code",
   "execution_count": 285,
   "metadata": {},
   "outputs": [
    {
     "output_type": "execute_result",
     "data": {
      "text/plain": "    학제별  설립별        대학명  입학정원 합(명) 평균 입학금(천원)  평균등록금(천원)  등록금순위(설립별)\n104  대학  국공립    한국과학기술원       3880       0.0      6866.0         1.0\n141  대학  국공립    울산과학기술원       1440       0.0      6167.2         2.0\n143  대학  국공립      서울대학교      13148       0.0      6011.8         3.0\n152  대학  국공립  서울과학기술대학교       8320       0.0      5435.4         4.0\n154  대학  국공립   한국예술종합학교       2252       0.0      4806.5         5.0\n155  대학  국공립      인천대학교       9968       0.0      4635.9         6.0\n157  대학  국공립      경북대학교      19178       0.0      4500.6         7.0\n158  대학  국공립      부산대학교      17254       0.0      4462.0         8.0\n159  대학  국공립      한밭대학교       7409       0.0      4449.7         9.0\n160  대학  국공립      전북대학교      15608       0.0      4380.8        10.0",
      "text/html": "<div>\n<style scoped>\n    .dataframe tbody tr th:only-of-type {\n        vertical-align: middle;\n    }\n\n    .dataframe tbody tr th {\n        vertical-align: top;\n    }\n\n    .dataframe thead th {\n        text-align: right;\n    }\n</style>\n<table border=\"1\" class=\"dataframe\">\n  <thead>\n    <tr style=\"text-align: right;\">\n      <th></th>\n      <th>학제별</th>\n      <th>설립별</th>\n      <th>대학명</th>\n      <th>입학정원 합(명)</th>\n      <th>평균 입학금(천원)</th>\n      <th>평균등록금(천원)</th>\n      <th>등록금순위(설립별)</th>\n    </tr>\n  </thead>\n  <tbody>\n    <tr>\n      <td>104</td>\n      <td>대학</td>\n      <td>국공립</td>\n      <td>한국과학기술원</td>\n      <td>3880</td>\n      <td>0.0</td>\n      <td>6866.0</td>\n      <td>1.0</td>\n    </tr>\n    <tr>\n      <td>141</td>\n      <td>대학</td>\n      <td>국공립</td>\n      <td>울산과학기술원</td>\n      <td>1440</td>\n      <td>0.0</td>\n      <td>6167.2</td>\n      <td>2.0</td>\n    </tr>\n    <tr>\n      <td>143</td>\n      <td>대학</td>\n      <td>국공립</td>\n      <td>서울대학교</td>\n      <td>13148</td>\n      <td>0.0</td>\n      <td>6011.8</td>\n      <td>3.0</td>\n    </tr>\n    <tr>\n      <td>152</td>\n      <td>대학</td>\n      <td>국공립</td>\n      <td>서울과학기술대학교</td>\n      <td>8320</td>\n      <td>0.0</td>\n      <td>5435.4</td>\n      <td>4.0</td>\n    </tr>\n    <tr>\n      <td>154</td>\n      <td>대학</td>\n      <td>국공립</td>\n      <td>한국예술종합학교</td>\n      <td>2252</td>\n      <td>0.0</td>\n      <td>4806.5</td>\n      <td>5.0</td>\n    </tr>\n    <tr>\n      <td>155</td>\n      <td>대학</td>\n      <td>국공립</td>\n      <td>인천대학교</td>\n      <td>9968</td>\n      <td>0.0</td>\n      <td>4635.9</td>\n      <td>6.0</td>\n    </tr>\n    <tr>\n      <td>157</td>\n      <td>대학</td>\n      <td>국공립</td>\n      <td>경북대학교</td>\n      <td>19178</td>\n      <td>0.0</td>\n      <td>4500.6</td>\n      <td>7.0</td>\n    </tr>\n    <tr>\n      <td>158</td>\n      <td>대학</td>\n      <td>국공립</td>\n      <td>부산대학교</td>\n      <td>17254</td>\n      <td>0.0</td>\n      <td>4462.0</td>\n      <td>8.0</td>\n    </tr>\n    <tr>\n      <td>159</td>\n      <td>대학</td>\n      <td>국공립</td>\n      <td>한밭대학교</td>\n      <td>7409</td>\n      <td>0.0</td>\n      <td>4449.7</td>\n      <td>9.0</td>\n    </tr>\n    <tr>\n      <td>160</td>\n      <td>대학</td>\n      <td>국공립</td>\n      <td>전북대학교</td>\n      <td>15608</td>\n      <td>0.0</td>\n      <td>4380.8</td>\n      <td>10.0</td>\n    </tr>\n  </tbody>\n</table>\n</div>"
     },
     "metadata": {},
     "execution_count": 285
    }
   ],
   "source": [
    "#### P.2-13\n",
    "\n",
    "####\n",
    "df6[df6['설립별']==\"국공립\"].head(10)"
   ]
  },
  {
   "cell_type": "code",
   "execution_count": 286,
   "metadata": {},
   "outputs": [
    {
     "output_type": "execute_result",
     "data": {
      "text/plain": "  학제별 설립별        대학명  입학정원 합(명) 평균 입학금(천원)  평균등록금(천원)  등록금순위(설립별)\n0  대학  사립  한국산업기술대학교       5520    4130.4      8996.2         1.0\n1  대학  사립      연세대학교      20216    8685.8      8930.4         2.0\n2  대학  사립      신한대학교       5712    8556.7      8695.2         3.0\n3  대학  사립    이화여자대학교      12740   10876.7      8691.6         4.0\n4  대학  사립    추계예술대학교       1097   17011.2      8677.0         5.0\n5  대학  사립      을지대학교       4286    9119.5      8495.8         6.0\n6  대학  사립      한양대학교      18928   10719.4      8473.4         7.0\n7  대학  사립    한국항공대학교       3335    4623.9      8467.9         8.0\n8  대학  사립     성균관대학교      13662    3545.9      8386.2         9.0\n9  대학  사립      홍익대학교      14977    7195.6      8343.4        10.0",
      "text/html": "<div>\n<style scoped>\n    .dataframe tbody tr th:only-of-type {\n        vertical-align: middle;\n    }\n\n    .dataframe tbody tr th {\n        vertical-align: top;\n    }\n\n    .dataframe thead th {\n        text-align: right;\n    }\n</style>\n<table border=\"1\" class=\"dataframe\">\n  <thead>\n    <tr style=\"text-align: right;\">\n      <th></th>\n      <th>학제별</th>\n      <th>설립별</th>\n      <th>대학명</th>\n      <th>입학정원 합(명)</th>\n      <th>평균 입학금(천원)</th>\n      <th>평균등록금(천원)</th>\n      <th>등록금순위(설립별)</th>\n    </tr>\n  </thead>\n  <tbody>\n    <tr>\n      <td>0</td>\n      <td>대학</td>\n      <td>사립</td>\n      <td>한국산업기술대학교</td>\n      <td>5520</td>\n      <td>4130.4</td>\n      <td>8996.2</td>\n      <td>1.0</td>\n    </tr>\n    <tr>\n      <td>1</td>\n      <td>대학</td>\n      <td>사립</td>\n      <td>연세대학교</td>\n      <td>20216</td>\n      <td>8685.8</td>\n      <td>8930.4</td>\n      <td>2.0</td>\n    </tr>\n    <tr>\n      <td>2</td>\n      <td>대학</td>\n      <td>사립</td>\n      <td>신한대학교</td>\n      <td>5712</td>\n      <td>8556.7</td>\n      <td>8695.2</td>\n      <td>3.0</td>\n    </tr>\n    <tr>\n      <td>3</td>\n      <td>대학</td>\n      <td>사립</td>\n      <td>이화여자대학교</td>\n      <td>12740</td>\n      <td>10876.7</td>\n      <td>8691.6</td>\n      <td>4.0</td>\n    </tr>\n    <tr>\n      <td>4</td>\n      <td>대학</td>\n      <td>사립</td>\n      <td>추계예술대학교</td>\n      <td>1097</td>\n      <td>17011.2</td>\n      <td>8677.0</td>\n      <td>5.0</td>\n    </tr>\n    <tr>\n      <td>5</td>\n      <td>대학</td>\n      <td>사립</td>\n      <td>을지대학교</td>\n      <td>4286</td>\n      <td>9119.5</td>\n      <td>8495.8</td>\n      <td>6.0</td>\n    </tr>\n    <tr>\n      <td>6</td>\n      <td>대학</td>\n      <td>사립</td>\n      <td>한양대학교</td>\n      <td>18928</td>\n      <td>10719.4</td>\n      <td>8473.4</td>\n      <td>7.0</td>\n    </tr>\n    <tr>\n      <td>7</td>\n      <td>대학</td>\n      <td>사립</td>\n      <td>한국항공대학교</td>\n      <td>3335</td>\n      <td>4623.9</td>\n      <td>8467.9</td>\n      <td>8.0</td>\n    </tr>\n    <tr>\n      <td>8</td>\n      <td>대학</td>\n      <td>사립</td>\n      <td>성균관대학교</td>\n      <td>13662</td>\n      <td>3545.9</td>\n      <td>8386.2</td>\n      <td>9.0</td>\n    </tr>\n    <tr>\n      <td>9</td>\n      <td>대학</td>\n      <td>사립</td>\n      <td>홍익대학교</td>\n      <td>14977</td>\n      <td>7195.6</td>\n      <td>8343.4</td>\n      <td>10.0</td>\n    </tr>\n  </tbody>\n</table>\n</div>"
     },
     "metadata": {},
     "execution_count": 286
    }
   ],
   "source": [
    "df6[df6['설립별']==\"사립\"].head(10)"
   ]
  },
  {
   "cell_type": "markdown",
   "metadata": {},
   "source": [
    "## P.2-14\n",
    "df6에서 경희대학교의 평균등록금(천원)과 사립 대학교 중 '등록금 순위'를 출력해봅시다.  \n",
    "출력 데이터는 khu_rank에 저장해주세요."
   ]
  },
  {
   "cell_type": "code",
   "execution_count": 287,
   "metadata": {
    "tags": []
   },
   "outputs": [
    {
     "output_type": "execute_result",
     "data": {
      "text/plain": "    평균등록금(천원)  등록금순위(설립별)\n24     7935.4        25.0",
      "text/html": "<div>\n<style scoped>\n    .dataframe tbody tr th:only-of-type {\n        vertical-align: middle;\n    }\n\n    .dataframe tbody tr th {\n        vertical-align: top;\n    }\n\n    .dataframe thead th {\n        text-align: right;\n    }\n</style>\n<table border=\"1\" class=\"dataframe\">\n  <thead>\n    <tr style=\"text-align: right;\">\n      <th></th>\n      <th>평균등록금(천원)</th>\n      <th>등록금순위(설립별)</th>\n    </tr>\n  </thead>\n  <tbody>\n    <tr>\n      <td>24</td>\n      <td>7935.4</td>\n      <td>25.0</td>\n    </tr>\n  </tbody>\n</table>\n</div>"
     },
     "metadata": {},
     "execution_count": 287
    }
   ],
   "source": [
    "#### P.2-14\n",
    "\n",
    "####\n",
    "khu_rank"
   ]
  },
  {
   "cell_type": "markdown",
   "metadata": {},
   "source": [
    "## P.2-15\n",
    "주요 10개 대학교 중에서 경희대학교 등록금 순위를 알아보려 합니다.  \n",
    "df6에서 주어진 주요 10개 대학교 리스트를 활용하여 주요 10개 대학교 df_ten 데이터 프레임을 생성해 봅시다. (isin 사용) "
   ]
  },
  {
   "cell_type": "code",
   "execution_count": 288,
   "metadata": {},
   "outputs": [
    {
     "output_type": "execute_result",
     "data": {
      "text/plain": "    학제별  설립별       대학명  입학정원 합(명) 평균 입학금(천원)  평균등록금(천원)  등록금순위(설립별)\n1    대학   사립     연세대학교      20216    8685.8      8930.4         2.0\n6    대학   사립     한양대학교      18928   10719.4      8473.4         7.0\n8    대학   사립    성균관대학교      13662    3545.9      8386.2         9.0\n11   대학   사립     고려대학교      20912    8571.2      8283.3        12.0\n19   대학   사립     중앙대학교      17976    7913.4      8083.1        20.0\n22   대학   사립     서강대학교       6296    5092.8      7947.4        23.0\n24   대학   사립     경희대학교      19686    8439.9      7935.4        25.0\n83   대학   사립  한국외국어대학교      13508   11811.1      7130.0        84.0\n143  대학  국공립     서울대학교      13148       0.0      6011.8         3.0\n208  대학  국공립   서울시립대학교       6826       0.0      2392.1        44.0",
      "text/html": "<div>\n<style scoped>\n    .dataframe tbody tr th:only-of-type {\n        vertical-align: middle;\n    }\n\n    .dataframe tbody tr th {\n        vertical-align: top;\n    }\n\n    .dataframe thead th {\n        text-align: right;\n    }\n</style>\n<table border=\"1\" class=\"dataframe\">\n  <thead>\n    <tr style=\"text-align: right;\">\n      <th></th>\n      <th>학제별</th>\n      <th>설립별</th>\n      <th>대학명</th>\n      <th>입학정원 합(명)</th>\n      <th>평균 입학금(천원)</th>\n      <th>평균등록금(천원)</th>\n      <th>등록금순위(설립별)</th>\n    </tr>\n  </thead>\n  <tbody>\n    <tr>\n      <td>1</td>\n      <td>대학</td>\n      <td>사립</td>\n      <td>연세대학교</td>\n      <td>20216</td>\n      <td>8685.8</td>\n      <td>8930.4</td>\n      <td>2.0</td>\n    </tr>\n    <tr>\n      <td>6</td>\n      <td>대학</td>\n      <td>사립</td>\n      <td>한양대학교</td>\n      <td>18928</td>\n      <td>10719.4</td>\n      <td>8473.4</td>\n      <td>7.0</td>\n    </tr>\n    <tr>\n      <td>8</td>\n      <td>대학</td>\n      <td>사립</td>\n      <td>성균관대학교</td>\n      <td>13662</td>\n      <td>3545.9</td>\n      <td>8386.2</td>\n      <td>9.0</td>\n    </tr>\n    <tr>\n      <td>11</td>\n      <td>대학</td>\n      <td>사립</td>\n      <td>고려대학교</td>\n      <td>20912</td>\n      <td>8571.2</td>\n      <td>8283.3</td>\n      <td>12.0</td>\n    </tr>\n    <tr>\n      <td>19</td>\n      <td>대학</td>\n      <td>사립</td>\n      <td>중앙대학교</td>\n      <td>17976</td>\n      <td>7913.4</td>\n      <td>8083.1</td>\n      <td>20.0</td>\n    </tr>\n    <tr>\n      <td>22</td>\n      <td>대학</td>\n      <td>사립</td>\n      <td>서강대학교</td>\n      <td>6296</td>\n      <td>5092.8</td>\n      <td>7947.4</td>\n      <td>23.0</td>\n    </tr>\n    <tr>\n      <td>24</td>\n      <td>대학</td>\n      <td>사립</td>\n      <td>경희대학교</td>\n      <td>19686</td>\n      <td>8439.9</td>\n      <td>7935.4</td>\n      <td>25.0</td>\n    </tr>\n    <tr>\n      <td>83</td>\n      <td>대학</td>\n      <td>사립</td>\n      <td>한국외국어대학교</td>\n      <td>13508</td>\n      <td>11811.1</td>\n      <td>7130.0</td>\n      <td>84.0</td>\n    </tr>\n    <tr>\n      <td>143</td>\n      <td>대학</td>\n      <td>국공립</td>\n      <td>서울대학교</td>\n      <td>13148</td>\n      <td>0.0</td>\n      <td>6011.8</td>\n      <td>3.0</td>\n    </tr>\n    <tr>\n      <td>208</td>\n      <td>대학</td>\n      <td>국공립</td>\n      <td>서울시립대학교</td>\n      <td>6826</td>\n      <td>0.0</td>\n      <td>2392.1</td>\n      <td>44.0</td>\n    </tr>\n  </tbody>\n</table>\n</div>"
     },
     "metadata": {},
     "execution_count": 288
    }
   ],
   "source": [
    "topten = ['서울대학교', '연세대학교','고려대학교','서강대학교','성균관대학교','한양대학교','중앙대학교','경희대학교','한국외국어대학교','서울시립대학교']\n",
    "#### P.2-15\n",
    "\n",
    "####\n",
    "df_ten"
   ]
  },
  {
   "cell_type": "markdown",
   "metadata": {},
   "source": [
    "## P.2-16\n",
    "등록금 순위를 주요 10개 대학교의 평균등록금에 맞게 다시 정렬해 봅시다. (오름차순)  \n",
    "그 결과는 df_ten에 \"등록금순위(10개대)\" column을 생성하여 저장합니다."
   ]
  },
  {
   "cell_type": "code",
   "execution_count": 289,
   "metadata": {},
   "outputs": [
    {
     "output_type": "execute_result",
     "data": {
      "text/plain": "    학제별  설립별       대학명  입학정원 합(명) 평균 입학금(천원)  평균등록금(천원)  등록금순위(설립별)  \\\n1    대학   사립     연세대학교      20216    8685.8      8930.4         2.0   \n6    대학   사립     한양대학교      18928   10719.4      8473.4         7.0   \n8    대학   사립    성균관대학교      13662    3545.9      8386.2         9.0   \n11   대학   사립     고려대학교      20912    8571.2      8283.3        12.0   \n19   대학   사립     중앙대학교      17976    7913.4      8083.1        20.0   \n22   대학   사립     서강대학교       6296    5092.8      7947.4        23.0   \n24   대학   사립     경희대학교      19686    8439.9      7935.4        25.0   \n83   대학   사립  한국외국어대학교      13508   11811.1      7130.0        84.0   \n143  대학  국공립     서울대학교      13148       0.0      6011.8         3.0   \n208  대학  국공립   서울시립대학교       6826       0.0      2392.1        44.0   \n\n     등록금순위(10개대)  \n1            1.0  \n6            2.0  \n8            3.0  \n11           4.0  \n19           5.0  \n22           6.0  \n24           7.0  \n83           8.0  \n143          9.0  \n208         10.0  ",
      "text/html": "<div>\n<style scoped>\n    .dataframe tbody tr th:only-of-type {\n        vertical-align: middle;\n    }\n\n    .dataframe tbody tr th {\n        vertical-align: top;\n    }\n\n    .dataframe thead th {\n        text-align: right;\n    }\n</style>\n<table border=\"1\" class=\"dataframe\">\n  <thead>\n    <tr style=\"text-align: right;\">\n      <th></th>\n      <th>학제별</th>\n      <th>설립별</th>\n      <th>대학명</th>\n      <th>입학정원 합(명)</th>\n      <th>평균 입학금(천원)</th>\n      <th>평균등록금(천원)</th>\n      <th>등록금순위(설립별)</th>\n      <th>등록금순위(10개대)</th>\n    </tr>\n  </thead>\n  <tbody>\n    <tr>\n      <td>1</td>\n      <td>대학</td>\n      <td>사립</td>\n      <td>연세대학교</td>\n      <td>20216</td>\n      <td>8685.8</td>\n      <td>8930.4</td>\n      <td>2.0</td>\n      <td>1.0</td>\n    </tr>\n    <tr>\n      <td>6</td>\n      <td>대학</td>\n      <td>사립</td>\n      <td>한양대학교</td>\n      <td>18928</td>\n      <td>10719.4</td>\n      <td>8473.4</td>\n      <td>7.0</td>\n      <td>2.0</td>\n    </tr>\n    <tr>\n      <td>8</td>\n      <td>대학</td>\n      <td>사립</td>\n      <td>성균관대학교</td>\n      <td>13662</td>\n      <td>3545.9</td>\n      <td>8386.2</td>\n      <td>9.0</td>\n      <td>3.0</td>\n    </tr>\n    <tr>\n      <td>11</td>\n      <td>대학</td>\n      <td>사립</td>\n      <td>고려대학교</td>\n      <td>20912</td>\n      <td>8571.2</td>\n      <td>8283.3</td>\n      <td>12.0</td>\n      <td>4.0</td>\n    </tr>\n    <tr>\n      <td>19</td>\n      <td>대학</td>\n      <td>사립</td>\n      <td>중앙대학교</td>\n      <td>17976</td>\n      <td>7913.4</td>\n      <td>8083.1</td>\n      <td>20.0</td>\n      <td>5.0</td>\n    </tr>\n    <tr>\n      <td>22</td>\n      <td>대학</td>\n      <td>사립</td>\n      <td>서강대학교</td>\n      <td>6296</td>\n      <td>5092.8</td>\n      <td>7947.4</td>\n      <td>23.0</td>\n      <td>6.0</td>\n    </tr>\n    <tr>\n      <td>24</td>\n      <td>대학</td>\n      <td>사립</td>\n      <td>경희대학교</td>\n      <td>19686</td>\n      <td>8439.9</td>\n      <td>7935.4</td>\n      <td>25.0</td>\n      <td>7.0</td>\n    </tr>\n    <tr>\n      <td>83</td>\n      <td>대학</td>\n      <td>사립</td>\n      <td>한국외국어대학교</td>\n      <td>13508</td>\n      <td>11811.1</td>\n      <td>7130.0</td>\n      <td>84.0</td>\n      <td>8.0</td>\n    </tr>\n    <tr>\n      <td>143</td>\n      <td>대학</td>\n      <td>국공립</td>\n      <td>서울대학교</td>\n      <td>13148</td>\n      <td>0.0</td>\n      <td>6011.8</td>\n      <td>3.0</td>\n      <td>9.0</td>\n    </tr>\n    <tr>\n      <td>208</td>\n      <td>대학</td>\n      <td>국공립</td>\n      <td>서울시립대학교</td>\n      <td>6826</td>\n      <td>0.0</td>\n      <td>2392.1</td>\n      <td>44.0</td>\n      <td>10.0</td>\n    </tr>\n  </tbody>\n</table>\n</div>"
     },
     "metadata": {},
     "execution_count": 289
    }
   ],
   "source": [
    "#### P.2-16\n",
    "\n",
    "####\n",
    "df_ten"
   ]
  },
  {
   "cell_type": "markdown",
   "metadata": {},
   "source": [
    "## P.2-17\n",
    "경희대학교의 주요 10개 대학교 등록금 순위를 출력해봅시다.  \n",
    "그 결과는 khu_rank2에 저장합니다. "
   ]
  },
  {
   "cell_type": "code",
   "execution_count": 294,
   "metadata": {
    "tags": []
   },
   "outputs": [
    {
     "output_type": "stream",
     "name": "stdout",
     "text": "24    7.0\nName: 등록금순위(10개대), dtype: float64\n"
    }
   ],
   "source": [
    "#### P.2-17\n",
    "\n",
    "####\n",
    "print(khu_rank2)"
   ]
  },
  {
   "cell_type": "markdown",
   "metadata": {},
   "source": [
    "## P.2-18\n",
    "앞서 작업한 df_ten 데이터 프레임을 csv로 저장해봅시다.  \n",
    "파일 이름은 \"univ_result.csv\"로 앞서 불러온 데이터셋과 같은 경로에 저장합니다."
   ]
  },
  {
   "cell_type": "code",
   "execution_count": 295,
   "metadata": {},
   "outputs": [],
   "source": [
    "#### P.2-18\n",
    "\n",
    "####"
   ]
  },
  {
   "cell_type": "markdown",
   "metadata": {},
   "source": [
    "## P.2-Free\n",
    "선택 문제입니다.  \n",
    "위 분석 과정에서 자유롭게 자신의 코드를 추가해보세요.  \n",
    "어떤 작업도 상관없습니다!(Ex. 시각화, 컬럼 추가, 데이터 조작/추가 등등 )"
   ]
  },
  {
   "cell_type": "code",
   "execution_count": null,
   "metadata": {},
   "outputs": [],
   "source": []
  }
 ],
 "metadata": {
  "language_info": {
   "codemirror_mode": {
    "name": "ipython",
    "version": 3
   },
   "file_extension": ".py",
   "mimetype": "text/x-python",
   "name": "python",
   "nbconvert_exporter": "python",
   "pygments_lexer": "ipython3",
   "version": "3.7.4-final"
  },
  "orig_nbformat": 2,
  "kernelspec": {
   "name": "python3",
   "display_name": "Python 3"
  }
 },
 "nbformat": 4,
 "nbformat_minor": 2
}