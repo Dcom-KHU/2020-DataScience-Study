{
 "cells": [
  {
   "cell_type": "markdown",
   "metadata": {},
   "source": [
    "# Regression Practice\n",
    "## 과제 안내 \n",
    "- 답안을 작성하여 ipynb 파일로 구글 드라이브 \\[Assignment\\] - \\[개인 폴더\\]로 업로드하시면 됩니다.  \n",
    "- 출력 예시는 각 셀 하단에 수록되어 있습니다.\n",
    "- 출력 결과와 예시가 완전히 일치할 필요는 없습니다! 문제의 조건에만 부합하면 됩니다."
   ]
  },
  {
   "cell_type": "markdown",
   "metadata": {},
   "source": [
    "# Practice Introduction\n",
    "이번 시간에는 캘리포니아 주택 가격 데이터를 활용하여 주택 정보가 주어지면 그것을 활용하여 주택 가격을 예측해봅시다.\n",
    "\n",
    "과정은 아래와 같습니다.  \n",
    "1. 데이터셋 불러오기 및 확인: 주택 가격 데이터셋을 불러오고, 데이터셋의 구조를 파악합니다.  \n",
    "2. 데이터셋 분할: 모델 학습을 위해 불러온 데이터셋을 train data와 validation data로 분할합니다.  \n",
    "3. 모델 학습: 앞서 분할한 데이터를 이용해 모델을 학습시킵니다.  \n",
    "4. 모델 평가: 모델이 올바르게 학습하였는지, 평가해 봅시다.  \n",
    "\n"
   ]
  },
  {
   "cell_type": "markdown",
   "metadata": {},
   "source": [
    "# Practice"
   ]
  },
  {
   "cell_type": "markdown",
   "metadata": {},
   "source": [
    "## P.5-1 데이터셋 불러오기\n",
    "\n"
   ]
  },
  {
   "cell_type": "markdown",
   "metadata": {},
   "source": [
    "주택 가격 문제의 데이터셋은 scikit-learn의 datasets 모듈에 포함되어 있습니다. 본 데이터셋을 불러오겠습니다. "
   ]
  },
  {
   "cell_type": "code",
   "execution_count": 19,
   "metadata": {},
   "outputs": [],
   "source": [
    "import numpy as np\n",
    "import matplotlib.pyplot as plt\n",
    "import seaborn as sns\n",
    "from sklearn.linear_model import LinearRegression\n",
    "from sklearn.model_selection import train_test_split\n",
    "from sklearn.datasets import fetch_california_housing"
   ]
  },
  {
   "cell_type": "code",
   "execution_count": 22,
   "metadata": {
    "tags": []
   },
   "outputs": [
    {
     "output_type": "stream",
     "name": "stdout",
     "text": "keys---------------------\n\ndict_keys(['data', 'target', 'feature_names', 'DESCR'])\nDESCR---------------------\n\n.. _california_housing_dataset:\n\nCalifornia Housing dataset\n--------------------------\n\n**Data Set Characteristics:**\n\n    :Number of Instances: 20640\n\n    :Number of Attributes: 8 numeric, predictive attributes and the target\n\n    :Attribute Information:\n        - MedInc        median income in block\n        - HouseAge      median house age in block\n        - AveRooms      average number of rooms\n        - AveBedrms     average number of bedrooms\n        - Population    block population\n        - AveOccup      average house occupancy\n        - Latitude      house block latitude\n        - Longitude     house block longitude\n\n    :Missing Attribute Values: None\n\nThis dataset was obtained from the StatLib repository.\nhttp://lib.stat.cmu.edu/datasets/\n\nThe target variable is the median house value for California districts.\n\nThis dataset was derived from the 1990 U.S. census, using one row per census\nblock group. A block group is the smallest geographical unit for which the U.S.\nCensus Bureau publishes sample data (a block group typically has a population\nof 600 to 3,000 people).\n\nIt can be downloaded/loaded using the\n:func:`sklearn.datasets.fetch_california_housing` function.\n\n.. topic:: References\n\n    - Pace, R. Kelley and Ronald Barry, Sparse Spatial Autoregressions,\n      Statistics and Probability Letters, 33 (1997) 291-297\n\n"
    }
   ],
   "source": [
    "housing_dataset = fetch_california_housing()\n",
    "print(\"keys---------------------\\n\")\n",
    "print(housing_dataset.keys())\n",
    "print(\"DESCR---------------------\\n\")\n",
    "print(housing_dataset['DESCR'])"
   ]
  },
  {
   "cell_type": "markdown",
   "metadata": {
    "tags": []
   },
   "source": [
    "## P.5-1\n",
    "선형회귀(Linear Regression) 분석을 위해 한가지 feature를 선정합니다.  \n",
    "방의 개수(AveRooms)가 많을수록 집의 가격이 높아지지 않을까요?  \n",
    "한번 산점도(Scatter plot)으로 시각화하여 확인해 봅시다!  "
   ]
  },
  {
   "cell_type": "code",
   "execution_count": 23,
   "metadata": {
    "tags": []
   },
   "outputs": [],
   "source": [
    "### P.5-1\n",
    "\n",
    "###"
   ]
  },
  {
   "cell_type": "markdown",
   "metadata": {
    "tags": []
   },
   "source": [
    "## P.5-2\n",
    "모델 학습을 위해 AveRooms Feature를 사용합시다!  \n",
    "AveRooms Feature를 x, target을 y로 가지는 학습 데이터를 만들어봅시다.\n",
    "- iris_dataset을 x_train, x_test, y_train, y_test로 나누어봅시다."
   ]
  },
  {
   "cell_type": "code",
   "execution_count": 24,
   "metadata": {},
   "outputs": [],
   "source": [
    "### P.5-2\n",
    "\n",
    "###"
   ]
  },
  {
   "cell_type": "markdown",
   "metadata": {},
   "source": [
    "## P.5-3\n",
    "선형 회귀(Linear Regression) 모델을 생성해 봅시다.\n"
   ]
  },
  {
   "cell_type": "code",
   "execution_count": 27,
   "metadata": {},
   "outputs": [],
   "source": [
    "### P.5-4\n",
    "\n",
    "###"
   ]
  },
  {
   "cell_type": "code",
   "execution_count": 28,
   "metadata": {},
   "outputs": [],
   "source": [
    "### P.5-4\n",
    "\n",
    "###"
   ]
  },
  {
   "cell_type": "markdown",
   "metadata": {},
   "source": [
    "## P.5-5\n",
    "모델의 학습이 잘 진행되었는지 확인해봅시다!  \n",
    "첫번째 test 데이터의 집 값을 예측해봅시다."
   ]
  },
  {
   "cell_type": "code",
   "execution_count": 29,
   "metadata": {},
   "outputs": [],
   "source": [
    "### P.5-5\n",
    "\n",
    "###"
   ]
  },
  {
   "cell_type": "markdown",
   "metadata": {},
   "source": [
    "## P.5-6\n",
    "생성한 선형 회귀 모델을 그래프로 시각화하여 봅시다.  \n",
    "그래프의 기울기와 절편은 어떻게 될까요?"
   ]
  },
  {
   "cell_type": "code",
   "execution_count": 30,
   "metadata": {},
   "outputs": [],
   "source": [
    "### P.5-6\n",
    "\n",
    "###"
   ]
  },
  {
   "cell_type": "markdown",
   "metadata": {},
   "source": [
    "## P.5-7\n",
    "방금 생성한 그래프 위에,\n",
    "test 데이터의 실제 정답(주택 가격)을 산점도로 시각화해봅시다. "
   ]
  },
  {
   "cell_type": "code",
   "execution_count": 33,
   "metadata": {},
   "outputs": [],
   "source": [
    "### P.5-7\n",
    "###"
   ]
  },
  {
   "cell_type": "markdown",
   "metadata": {},
   "source": [
    "## P.5-8\n",
    "회귀 분석 모델에 점수를 매길 수 있을까요?\n",
    "분류 모델에는 정확도(Accuracy)가 있다면, 회귀 모델에는 평균 제곱 오차(MSE, Mean Square Error)가 있습니다.  \n",
    "생성한 모델의 MSE를 구해봅시다!  \n",
    "\n",
    "MSE의 설명은 [링크](https://dyndy.tistory.com/179)를 참고해주세요.\n"
   ]
  },
  {
   "cell_type": "code",
   "execution_count": 35,
   "metadata": {},
   "outputs": [],
   "source": [
    "### P.5-8\n",
    "###"
   ]
  },
  {
   "cell_type": "markdown",
   "metadata": {},
   "source": [
    "## P.5-9\n",
    "다른 Feature를 이용하여 선형 회귀 모델을 제작해봅시다!  \n",
    "선택하는 feature는 자유입니다.  \n",
    "AveRooms Feature보다 성능(MSE)의 개선이 있었나요?  "
   ]
  },
  {
   "cell_type": "code",
   "execution_count": 36,
   "metadata": {},
   "outputs": [],
   "source": [
    "### P.5-9\n",
    "###"
   ]
  },
  {
   "cell_type": "markdown",
   "metadata": {},
   "source": [
    "## P.5-10\n",
    "지금까지는 단순선형회귀로 문제를 해결해보고자 했습니다.  \n",
    "이번에는 다중선형회귀모델로 즉, 여러개의 변수 X를 이용하여 문제를 해결해봅시다.  \n",
    "적절한 Feature들을 선택하여 다중선형회귀모델을 제작해봅시다!  \n",
    "이전 모델들보다 MSE의 성능(MSE)이 있었나요? "
   ]
  },
  {
   "cell_type": "code",
   "execution_count": 37,
   "metadata": {},
   "outputs": [],
   "source": [
    "### P.5-10\n",
    "###"
   ]
  },
  {
   "cell_type": "code",
   "execution_count": null,
   "metadata": {},
   "outputs": [],
   "source": []
  },
  {
   "cell_type": "code",
   "execution_count": null,
   "metadata": {},
   "outputs": [],
   "source": []
  }
 ],
 "metadata": {
  "language_info": {
   "codemirror_mode": {
    "name": "ipython",
    "version": 3
   },
   "file_extension": ".py",
   "mimetype": "text/x-python",
   "name": "python",
   "nbconvert_exporter": "python",
   "pygments_lexer": "ipython3",
   "version": "3.7.4-final"
  },
  "orig_nbformat": 2,
  "kernelspec": {
   "name": "python3",
   "display_name": "Python 3"
  }
 },
 "nbformat": 4,
 "nbformat_minor": 2
}